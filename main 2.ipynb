{
  "cells": [
    {
      "cell_type": "markdown",
      "metadata": {},
      "source": [
        "# Initialisation"
      ]
    },
    {
      "cell_type": "code",
      "execution_count": null,
      "metadata": {
        "id": "mGKZFMeWXPqB"
      },
      "outputs": [],
      "source": [
        "from Erdre_1 import Image, Dataset\n",
        "import os\n",
        "import pandas as pd\n",
        "import numpy as np\n",
        "import matplotlib.pyplot as plt\n",
        "import matching\n",
        "import cv2\n",
        "import copy"
      ]
    },
    {
      "cell_type": "code",
      "execution_count": 2,
      "metadata": {},
      "outputs": [
        {
          "name": "stderr",
          "output_type": "stream",
          "text": [
            "WARNING: pip is being invoked by an old script wrapper. This will fail in a future version of pip.\n",
            "Please see https://github.com/pypa/pip/issues/5599 for advice on fixing the underlying issue.\n",
            "To avoid this problem you can invoke Python with '-m pip' instead of running pip directly.\n"
          ]
        },
        {
          "data": {
            "text/html": [
              "<pre style=\"white-space:pre;overflow-x:auto;line-height:normal;font-family:Menlo,'DejaVu Sans Mono',consolas,'Courier New',monospace\">Requirement already satisfied: openpyxl in c:\\users\\exill\\anaconda3\\envs\\erdre\\lib\\site-packages (3.1.5)\n",
              "</pre>\n"
            ],
            "text/plain": [
              "Requirement already satisfied: openpyxl in c:\\users\\exill\\anaconda3\\envs\\erdre\\lib\\site-packages (3.1.5)\n"
            ]
          },
          "metadata": {},
          "output_type": "display_data"
        },
        {
          "data": {
            "text/html": [
              "<pre style=\"white-space:pre;overflow-x:auto;line-height:normal;font-family:Menlo,'DejaVu Sans Mono',consolas,'Courier New',monospace\">Requirement already satisfied: et-xmlfile in c:\\users\\exill\\anaconda3\\envs\\erdre\\lib\\site-packages (from openpyxl) (2.0.0)\n",
              "</pre>\n"
            ],
            "text/plain": [
              "Requirement already satisfied: et-xmlfile in c:\\users\\exill\\anaconda3\\envs\\erdre\\lib\\site-packages (from openpyxl) (2.0.0)\n"
            ]
          },
          "metadata": {},
          "output_type": "display_data"
        },
        {
          "data": {
            "text/plain": [
              "0"
            ]
          },
          "execution_count": 2,
          "metadata": {},
          "output_type": "execute_result"
        }
      ],
      "source": [
        "#Execute if needed\n",
        "import pip\n",
        "pip.main([\"install\", \"openpyxl\"])"
      ]
    },
    {
      "cell_type": "markdown",
      "metadata": {},
      "source": [
        "# Loading the Data"
      ]
    },
    {
      "cell_type": "markdown",
      "metadata": {},
      "source": [
        "Choisir l'année voulue"
      ]
    },
    {
      "cell_type": "code",
      "execution_count": null,
      "metadata": {},
      "outputs": [],
      "source": [
        "année = \"1999\""
      ]
    },
    {
      "cell_type": "code",
      "execution_count": null,
      "metadata": {
        "id": "VKjFKF0qa7T2"
      },
      "outputs": [
        {
          "name": "stdout",
          "output_type": "stream",
          "text": [
            "Done importing data\n"
          ]
        }
      ],
      "source": [
        "db_path = 'database.xlsx'\n",
        "input_dir = f'images/{année}'\n",
        "\n",
        "DATA = Dataset(input_dir, db_path)\n",
        "print(\"Done importing data\")\n"
      ]
    },
    {
      "cell_type": "markdown",
      "metadata": {},
      "source": [
        "# Preprocessing"
      ]
    },
    {
      "cell_type": "markdown",
      "metadata": {},
      "source": [
        "Création d'un duplicat du dataset pour ne pas avoir à recharger les images en cas de problème."
      ]
    },
    {
      "cell_type": "code",
      "execution_count": 4,
      "metadata": {},
      "outputs": [
        {
          "name": "stdout",
          "output_type": "stream",
          "text": [
            "['1999_A00S01251_16', '1999_A00S01251_17']\n"
          ]
        }
      ],
      "source": [
        "PREPROCESSED_DATA=copy.deepcopy(DATA)\n",
        "print(PREPROCESSED_DATA.names)"
      ]
    },
    {
      "cell_type": "markdown",
      "metadata": {},
      "source": [
        "Execution du preprocessing, choisir le seuil et le scaling (la définition) voulue"
      ]
    },
    {
      "cell_type": "code",
      "execution_count": 5,
      "metadata": {
        "id": "88co6sM4bB43"
      },
      "outputs": [
        {
          "name": "stdout",
          "output_type": "stream",
          "text": [
            "PROCESSING...\n",
            "Processing 1999_A00S01251_16\n",
            "Scaling 1999_A00S01251_16\n",
            "Done scaling\n",
            "Rotating 1999_A00S01251_16\n",
            "Done rotating\n",
            "Cutting border from 1999_A00S01251_16\n",
            "do the right thing\n",
            "✅ Done processing\n",
            "Done\n",
            "Processing 1999_A00S01251_17\n",
            "Scaling 1999_A00S01251_17\n",
            "Done scaling\n",
            "Rotating 1999_A00S01251_17\n",
            "Done rotating\n",
            "Cutting border from 1999_A00S01251_17\n",
            "do the right thing\n",
            "✅ Done processing\n",
            "Done\n",
            "Done preprocessing data\n"
          ]
        }
      ],
      "source": [
        "threshold = 1\n",
        "scale =0.1\n",
        "PREPROCESSED_DATA.preprocessing(border_threshold=threshold, homo_scale=scale)\n",
        "print(\"Done preprocessing data\")\n"
      ]
    },
    {
      "cell_type": "markdown",
      "metadata": {},
      "source": [
        "Validation du preprocessing dans le Dataset principal"
      ]
    },
    {
      "cell_type": "code",
      "execution_count": 6,
      "metadata": {},
      "outputs": [],
      "source": [
        "DATA=copy.deepcopy(PREPROCESSED_DATA)"
      ]
    },
    {
      "cell_type": "markdown",
      "metadata": {},
      "source": [
        "# Matching"
      ]
    },
    {
      "cell_type": "markdown",
      "metadata": {},
      "source": [
        "Matching des images"
      ]
    },
    {
      "cell_type": "code",
      "execution_count": 7,
      "metadata": {
        "id": "N5n-JyozbDwN"
      },
      "outputs": [
        {
          "name": "stdout",
          "output_type": "stream",
          "text": [
            "Done matching images\n"
          ]
        }
      ],
      "source": [
        "H, mask, matches = DATA.match()\n",
        "print(\"Done matching images\")\n"
      ]
    },
    {
      "cell_type": "code",
      "execution_count": null,
      "metadata": {},
      "outputs": [
        {
          "name": "stdout",
          "output_type": "stream",
          "text": [
            "{('1999_A00S01251_16', '1999_A00S01251_17'): array([[ 1.16322625e+00, -8.83745481e-01,  2.61291987e+02],\n",
            "       [ 6.63480600e-01, -3.83999830e-01,  5.38568558e+01],\n",
            "       [ 2.77356719e-03, -2.77356719e-03,  1.00000000e+00]])}\n"
          ]
        }
      ],
      "source": [
        "#Temp\n",
        "print(H)"
      ]
    },
    {
      "cell_type": "code",
      "execution_count": null,
      "metadata": {},
      "outputs": [
        {
          "name": "stdout",
          "output_type": "stream",
          "text": [
            "Rotation Angle: 29.70°\n"
          ]
        }
      ],
      "source": [
        "#Temp\n",
        "H1 = H[(DATA.images[0].name,DATA.images[1].name)]\n",
        "\"\"\"r1 = H1[:, 0]\n",
        "r2 = H1[:, 1]\n",
        "\n",
        "# Normalize them to get orthonormal basis\n",
        "r1 = r1 / np.linalg.norm(r1)\n",
        "r2 = r2 / np.linalg.norm(r2)\n",
        "r3 = np.cross(r1[:3], r2[:3])  # Compute third column using cross product\n",
        "\n",
        "# Rotation matrix\n",
        "R = np.column_stack((r1[:3], r2[:3], r3))\n",
        "\n",
        "print(\"Rotation Matrix:\\n\", R)\n",
        "\n",
        "# Convert rotation matrix to Euler angles\n",
        "from scipy.spatial.transform import Rotation as Rot\n",
        "euler_angles = Rot.from_matrix(R).as_euler('xyz', degrees=True)\n",
        "\n",
        "print(\"Euler Angles (X, Y, Z) in Degrees:\", euler_angles)\"\"\"\n",
        "\n",
        "r11, r12 = H1[0, 0], H1[0, 1]\n",
        "r21, r22 = H1[1, 0], H1[1, 1]\n",
        "\n",
        "# Compute rotation angle\n",
        "theta = np.arctan2(r21, r11)  # Radians\n",
        "angle = np.degrees(theta)  # Degrees\n",
        "\n",
        "print(f\"Rotation Angle: {angle:.2f}°\")\n"
      ]
    },
    {
      "cell_type": "markdown",
      "metadata": {},
      "source": [
        "Calcul des angles de rotation pour chaque couple d'images"
      ]
    },
    {
      "cell_type": "code",
      "execution_count": 10,
      "metadata": {},
      "outputs": [],
      "source": [
        "names = DATA.names\n",
        "n = len(names)\n",
        "ANGLES = {}\n",
        "# Loop through each pair of images and calculate the rotation angle\n",
        "for i in range(n):\n",
        "    for j in range(i + 1, n):\n",
        "        image_1_name = names[i]\n",
        "        image_2_name = names[j]\n",
        "        # Calculate the rotation angle between the pair of images\n",
        "        ANGLES[(image_1_name, image_2_name)] = matching.extract_rotation_angle(H[(image_1_name, image_2_name)])\n",
        "        # Since the rotation between (image_1_name, image_2_name) and (image_2_name, image_1_name) is the same\n",
        "        ANGLES[(image_2_name, image_1_name)] = ANGLES[(image_1_name, image_2_name)]"
      ]
    },
    {
      "cell_type": "markdown",
      "metadata": {},
      "source": [
        "Impression de la matrice de validation du matching (Valide si angle ~= 0)"
      ]
    },
    {
      "cell_type": "code",
      "execution_count": 11,
      "metadata": {},
      "outputs": [
        {
          "data": {
            "image/png": "[encoded data removed]",
            "text/plain": [
              "<Figure size 800x600 with 2 Axes>"
            ]
          },
          "metadata": {},
          "output_type": "display_data"
        }
      ],
      "source": [
        "matching.matrice_angles(ANGLES, DATA.names)"
      ]
    },
    {
      "cell_type": "markdown",
      "metadata": {},
      "source": [
        "# Stitching"
      ]
    },
    {
      "cell_type": "markdown",
      "metadata": {},
      "source": [
        "Enregistrement des dimensions des images"
      ]
    },
    {
      "cell_type": "code",
      "execution_count": 12,
      "metadata": {},
      "outputs": [],
      "source": [
        "#Storing image sizes\n",
        "h = {img.name: img.image.shape[0] for img in DATA.images}\n",
        "w = {img.name: img.image.shape[1] for img in DATA.images}"
      ]
    },
    {
      "cell_type": "markdown",
      "metadata": {},
      "source": [
        "Création d'un dictionnaire pour enregistrer les postions relatives des images par rapport à l'image mère (ici la première image chargée)"
      ]
    },
    {
      "cell_type": "code",
      "execution_count": 13,
      "metadata": {},
      "outputs": [],
      "source": [
        "# Initialize placement tracking\n",
        "placed_images = {DATA.images[0].name: (0, 0)}  # Core image at (0,0)\n",
        "unmatched_images = {img.name: \"unmatched\" for img in DATA.images}  \n",
        "unmatched_images[DATA.images[0].name] = \"matched\" # All images except the core"
      ]
    },
    {
      "cell_type": "code",
      "execution_count": 14,
      "metadata": {},
      "outputs": [],
      "source": [
        "last_placed_image = DATA.images[0].name"
      ]
    },
    {
      "cell_type": "markdown",
      "metadata": {},
      "source": [
        "Création d'une toile pour y imprimer les images"
      ]
    },
    {
      "cell_type": "code",
      "execution_count": 15,
      "metadata": {},
      "outputs": [],
      "source": [
        "# Initialize bounding box\n",
        "min_x, min_y = 0, 0\n",
        "max_x, max_y = w[DATA.images[0].name], h[DATA.images[0].name]\n",
        "\n",
        "# Create a canvas big enough to fit both images\n",
        "canvas = np.zeros((h[DATA.images[0].name], w[DATA.images[0].name], 3) , dtype=np.uint8)\n",
        "canvas[0:h[DATA.images[0].name],0:w[DATA.images[0].name]] = DATA.images[0].image"
      ]
    },
    {
      "cell_type": "markdown",
      "metadata": {},
      "source": [
        "Evaluation des images et enregistrement des translations entre les images"
      ]
    },
    {
      "cell_type": "code",
      "execution_count": 16,
      "metadata": {},
      "outputs": [
        {
          "name": "stdout",
          "output_type": "stream",
          "text": [
            "matching 1999_A00S01251_17 with 1999_A00S01251_16\n"
          ]
        }
      ],
      "source": [
        "while any(status == \"unmatched\" for status in unmatched_images.values()):\n",
        "    newly_matched = []\n",
        "\n",
        "    # Loop through the unmatched images\n",
        "    for img_name in list(unmatched_images):\n",
        "        if unmatched_images[img_name] == \"matched\":\n",
        "            continue  # Skip if the image is already matched\n",
        "\n",
        "        matched = False\n",
        "        \n",
        "        if last_placed_image is not None:  # Ensure there's a last placed image to match against\n",
        "            ref_name = last_placed_image  # We now only match with the last placed image\n",
        "\n",
        "            # Proceed with matching logic\n",
        "            if abs(ANGLES[(img_name, ref_name)]) <= 100:  # Accept if rotation is small\n",
        "                if (img_name, ref_name) in H:\n",
        "                    tx, ty = -H[(img_name, ref_name)][0, 2], -H[(img_name, ref_name)][1, 2]\n",
        "                else:\n",
        "                    tx, ty = -H[(ref_name, img_name)][0, 2], -H[(ref_name, img_name)][1, 2]\n",
        "\n",
        "                ref_x, ref_y = placed_images[ref_name]\n",
        "\n",
        "                # Compute new image's position\n",
        "                new_x = ref_x + int(round(tx))\n",
        "                new_y = ref_y + int(round(ty))\n",
        "\n",
        "                # Update bounding box (if necessary)\n",
        "                min_x = min(min_x, new_x)\n",
        "                min_y = min(min_y, new_y)\n",
        "                max_x = max(max_x, new_x + w[img_name])\n",
        "                max_y = max(max_y, new_y + h[img_name])\n",
        "\n",
        "                # Store position of the newly matched image\n",
        "                placed_images[img_name] = (new_x, new_y)\n",
        "                unmatched_images[img_name] = \"matched\"  # Update the status to matched\n",
        "                newly_matched.append(img_name)\n",
        "                matched = True\n",
        "                print(f\"matching {img_name} with {ref_name}\")\n",
        "                \n",
        "                # Update last_placed_image to the newly placed image\n",
        "                last_placed_image = img_name\n",
        "                break  # Stop checking other references for this image\n",
        "        \n",
        "        \n",
        "        \"\"\"for ref_name in placed_images:\n",
        "\n",
        "            \n",
        "            if abs(ANGLES[(img_name,ref_name)]) <= 5:  # Accept if rotation is small\n",
        "                if (img_name,ref_name) in H:\n",
        "                    tx, ty = -H[(img_name,ref_name)][0, 2], -H[(img_name,ref_name)][1, 2]\n",
        "                else:\n",
        "                    tx, ty = -H[(ref_name,img_name)][0, 2], -H[(ref_name,img_name)][1, 2]\n",
        "                \n",
        "                ref_x, ref_y = placed_images[ref_name]\n",
        "\n",
        "                # Compute new image's position\n",
        "                new_x = ref_x + int(round(tx))\n",
        "                new_y = ref_y + int(round(ty))\n",
        "\n",
        "                # Update bounding box\n",
        "                min_x = min(min_x, new_x)\n",
        "                min_y = min(min_y, new_y)\n",
        "                max_x = max(max_x, new_x + w[img_name])\n",
        "                max_y = max(max_y, new_y + h[img_name])\n",
        "\n",
        "                # Store position of the newly matched image\n",
        "                placed_images[img_name] = (new_x, new_y)\n",
        "                unmatched_images[img_name] = \"matched\"  # Update the status to matched\n",
        "                newly_matched.append(img_name)\n",
        "                matched = True\n",
        "                print(\"matching \" + img_name + \" with \" + ref_name)\n",
        "                break  # Stop checking other references\"\"\"\n",
        "\n",
        "        if not matched:\n",
        "            # If no match was found for this image, it stays unmatched (no need to change)\n",
        "            pass\n",
        "\n",
        "    if not newly_matched:\n",
        "        print(\"No new matches found. Exiting loop.\")\n",
        "        break  # Stop if no new images were placed\n"
      ]
    },
    {
      "cell_type": "markdown",
      "metadata": {},
      "source": [
        "Ajustement de toutes les positions dans le cas d'images se plaçant avant l'image mère en x ou y (qui résulte en une position négative) "
      ]
    },
    {
      "cell_type": "code",
      "execution_count": 17,
      "metadata": {},
      "outputs": [],
      "source": [
        "# Adjust for negative translations\n",
        "shift_x, shift_y = -min_x, -min_y\n",
        "new_canvas = np.zeros((max_y - min_y, max_x - min_x, 3), dtype=np.uint8)\n",
        "\n",
        "# Shift all placed images\n",
        "for img_idx, (old_x, old_y) in placed_images.items():\n",
        "    placed_images[img_idx] = (old_x + shift_x, old_y + shift_y)\n",
        "\n",
        "# Copy old canvas onto new\n",
        "new_canvas[shift_y:shift_y + canvas.shape[0], shift_x:shift_x + canvas.shape[1]] = canvas\n",
        "canvas = new_canvas"
      ]
    },
    {
      "cell_type": "markdown",
      "metadata": {},
      "source": [
        "Impression des images sur la toile"
      ]
    },
    {
      "cell_type": "code",
      "execution_count": 18,
      "metadata": {},
      "outputs": [],
      "source": [
        "# Place all images\n",
        "for image_name, (x_offset, y_offset) in placed_images.items():\n",
        "    canvas[y_offset:y_offset + h[image_name], x_offset:x_offset + w[image_name]] = DATA.get_image(image_name)"
      ]
    },
    {
      "cell_type": "markdown",
      "metadata": {},
      "source": [
        "Rendu JPG de la toile"
      ]
    },
    {
      "cell_type": "code",
      "execution_count": 19,
      "metadata": {},
      "outputs": [
        {
          "data": {
            "text/plain": [
              "True"
            ]
          },
          "execution_count": 19,
          "metadata": {},
          "output_type": "execute_result"
        }
      ],
      "source": [
        "cv2.imwrite(f\"stitched_{année}.jpg\", canvas)"
      ]
    }
  ],
  "metadata": {
    "colab": {
      "provenance": []
    },
    "kernelspec": {
      "display_name": "Erdre",
      "language": "python",
      "name": "python3"
    },
    "language_info": {
      "codemirror_mode": {
        "name": "ipython",
        "version": 3
      },
      "file_extension": ".py",
      "mimetype": "text/x-python",
      "name": "python",
      "nbconvert_exporter": "python",
      "pygments_lexer": "ipython3",
      "version": "3.12.7"
    }
  },
  "nbformat": 4,
  "nbformat_minor": 0
}
